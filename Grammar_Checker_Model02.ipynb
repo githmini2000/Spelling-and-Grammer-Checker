{
  "nbformat": 4,
  "nbformat_minor": 0,
  "metadata": {
    "colab": {
      "provenance": []
    },
    "kernelspec": {
      "name": "python3",
      "display_name": "Python 3"
    },
    "language_info": {
      "name": "python"
    }
  },
  "cells": [
    {
      "cell_type": "code",
      "source": [
        "import difflib\n",
        "\n",
        "# Correct paragraph list\n",
        "correct_paragraphs = [\n",
        "    \"මම පොත්පත් රැගෙන පාසලට යමි. අපි පන්ති කාමරය වෙත පැමිණෙමු. අපි පෙළපොත් මේසය මත තබන්නෙමු. මම ගුරුතුමිය කෙරෙහි හොදින් සවන් යොමු කරන්නෙමි.\",\n",
        "    \"අපි සෙල්ලම් කර, කෙටි විවේකයකින් පසුව නැවතත් පිට්ටනිය වෙත ගියෙමු. මම සෙල්ලම් කිරීම සදහා බෝලයක් රැගෙන එමි. අපි පැය කිහිපයක් සෙල්ලම් කරමු.\",\n",
        "    \"මම රචනා තරගයෙන් පළමු ස්ථානය ලබා ගත්තෙමි. මම තරගයෙන් පසු ගෙදර වෙත එමි. අපි ගෙදර සාදයක් පවත්වමු. අපි සියලුදෙනා සතුටු වෙමු.\",\n",
        "    \"අපි සැවොම එකමුතුවෙන් සහ සහයෝගයෙන් වාසය කරන්නෙමු. මම නිදහසේ ජීවත් වීමට කැමැත්තක් දක්වමි. මම යහලුවන් සමග කාලය ගත කරමි.\",\n",
        "    \"මම මල්ලි සමග කොළඹ පොත් ප්‍රදර්ශනය බැලීමට ගියෙමි. අපි පොත් විශාල ප්‍රමාණයක් මිලදී ගත්තෙමු. මම කැමති පොත හොදින් පරිස්සම් කරමි. මම පොත් කියවීමට කැමැත්තක් දක්වමි.\"\n",
        "]\n",
        "\n",
        "# Extract correct words list\n",
        "correct_words = set(word for paragraph in correct_paragraphs for word in paragraph.split())\n",
        "\n",
        "# Extract correct sentences list\n",
        "correct_sentences = [sentence.strip() for paragraph in correct_paragraphs for sentence in paragraph.split(\".\") if sentence.strip()]\n",
        "\n",
        "def correct_paragraph(input_paragraph):\n",
        "    # Split paragraph into sentences\n",
        "    sentences = [sentence.strip() for sentence in input_paragraph.split(\".\") if sentence.strip()]\n",
        "    corrected_sentences = []\n",
        "\n",
        "    for sentence in sentences:\n",
        "        words = sentence.split()\n",
        "        corrected_words = []\n",
        "\n",
        "        # Spell Checker\n",
        "        for word in words:\n",
        "            if word in correct_words:\n",
        "                corrected_words.append(word)\n",
        "            else:\n",
        "                # Find the closest match from the correct words list\n",
        "                closest_match = difflib.get_close_matches(word, correct_words, n=1)\n",
        "                corrected_words.append(closest_match[0] if closest_match else word)\n",
        "\n",
        "        corrected_sentence = \" \".join(corrected_words)\n",
        "\n",
        "        # Grammar Checker\n",
        "        closest_sentence_match = difflib.get_close_matches(corrected_sentence, correct_sentences, n=1)\n",
        "        if closest_sentence_match:\n",
        "            corrected_sentences.append(closest_sentence_match[0])\n",
        "        else:\n",
        "            corrected_sentences.append(corrected_sentence)\n",
        "\n",
        "    # Reassemble corrected sentences into a paragraph\n",
        "    return \". \".join(corrected_sentences) + \".\"\n",
        "\n",
        "# Input paragraphs with errors\n",
        "input_paragraphs = [\n",
        "    \"මම පත්පත් රගෙන පාසලට යටි. අපි පන්ති කමරය වෙත පැමිණෙමෝ. අපි පෙළපත මසය මත තබන්නෙමා. මම ගුරුතමය කෙරෙහි හොදින් සවන් යොමු කරන්නෙම.\",\n",
        "    \"අපි සෙල්ලම් කර, කෙටි විවේකයකින් පසුව නැවතත් පිට්ටනිය වෙත ගියෙම. මම සෙල්ලම් කිරම සදහා බෝලයක් රගෙන එම්. අපි පැය කිහපයක් සෙල්ලම් කර.\",\n",
        "    \"මම රචනා තරගයෙන් පළම ස්ථානය ලබා ගත්තෙම. මම තරගයෙන් පසු ගදර වෙත එම්. අපි ගෙදර සදයක් පවත්ව. අපි සියලුදනා සතුටු වෙමා.\",\n",
        "    \"අපි සැවම එකමතවෙන් සහ සහයයෙන් වාසය කරන්නම. මම නිදහසේ ජීවත් වමට කැමත්තක් දක්වමෝ. මම යහලුවන් සමග කාලය ගත කරමා.\",\n",
        "    \"මම මල්ල සමග කළඹ පොත් ප්‍දරශනය බැලීමට ගයෙම. අපි පොත් වශල ප්‍මණයක් මිලදී ගත්තෙ. මම කැමති පොත හොදින් පරිස්සම් කමො. මම පොත් කියවීමට කැමැත්තක් දක්ව.\"\n",
        "]\n",
        "\n",
        "# Process each input paragraph\n",
        "for i, paragraph in enumerate(input_paragraphs, 1):\n",
        "    corrected = correct_paragraph(paragraph)\n",
        "    print(f\"Original Paragraph {i}:\\n{paragraph}\\n\")\n",
        "    print(f\"Corrected Paragraph {i}:\\n{corrected}\\n\")\n",
        "    print(\"-\" * 50)\n"
      ],
      "metadata": {
        "colab": {
          "base_uri": "https://localhost:8080/"
        },
        "id": "WpgKgAEjzDI2",
        "outputId": "36628078-adfa-4498-d1f0-c5c6f20b4115"
      },
      "execution_count": 9,
      "outputs": [
        {
          "output_type": "stream",
          "name": "stdout",
          "text": [
            "Original Paragraph 1:\n",
            "මම පත්පත් රගෙන පාසලට යටි. අපි පන්ති කමරය වෙත පැමිණෙමෝ. අපි පෙළපත මසය මත තබන්නෙමා. මම ගුරුතමය කෙරෙහි හොදින් සවන් යොමු කරන්නෙම.\n",
            "\n",
            "Corrected Paragraph 1:\n",
            "මම පොත්පත් රැගෙන පාසලට යමි. අපි පන්ති කාමරය වෙත පැමිණෙමු. අපි පෙළපොත් මේසය මත තබන්නෙමු. මම ගුරුතුමිය කෙරෙහි හොදින් සවන් යොමු කරන්නෙමි.\n",
            "\n",
            "--------------------------------------------------\n",
            "Original Paragraph 2:\n",
            "අපි සෙල්ලම් කර, කෙටි විවේකයකින් පසුව නැවතත් පිට්ටනිය වෙත ගියෙම. මම සෙල්ලම් කිරම සදහා බෝලයක් රගෙන එම්. අපි පැය කිහපයක් සෙල්ලම් කර.\n",
            "\n",
            "Corrected Paragraph 2:\n",
            "අපි සෙල්ලම් කර, කෙටි විවේකයකින් පසුව නැවතත් පිට්ටනිය වෙත ගියෙමු. මම සෙල්ලම් කිරීම සදහා බෝලයක් රැගෙන එමි. අපි පැය කිහිපයක් සෙල්ලම් කරමු.\n",
            "\n",
            "--------------------------------------------------\n",
            "Original Paragraph 3:\n",
            "මම රචනා තරගයෙන් පළම ස්ථානය ලබා ගත්තෙම. මම තරගයෙන් පසු ගදර වෙත එම්. අපි ගෙදර සදයක් පවත්ව. අපි සියලුදනා සතුටු වෙමා.\n",
            "\n",
            "Corrected Paragraph 3:\n",
            "මම රචනා තරගයෙන් පළමු ස්ථානය ලබා ගත්තෙමි. මම තරගයෙන් පසු ගෙදර වෙත එමි. අපි ගෙදර සාදයක් පවත්වමු. අපි සියලුදෙනා සතුටු වෙමු.\n",
            "\n",
            "--------------------------------------------------\n",
            "Original Paragraph 4:\n",
            "අපි සැවම එකමතවෙන් සහ සහයයෙන් වාසය කරන්නම. මම නිදහසේ ජීවත් වමට කැමත්තක් දක්වමෝ. මම යහලුවන් සමග කාලය ගත කරමා.\n",
            "\n",
            "Corrected Paragraph 4:\n",
            "අපි සැවොම එකමුතුවෙන් සහ සහයෝගයෙන් වාසය කරන්නෙමු. මම නිදහසේ ජීවත් වීමට කැමැත්තක් දක්වමි. මම යහලුවන් සමග කාලය ගත කරමි.\n",
            "\n",
            "--------------------------------------------------\n",
            "Original Paragraph 5:\n",
            "මම මල්ල සමග කළඹ පොත් ප්‍දරශනය බැලීමට ගයෙම. අපි පොත් වශල ප්‍මණයක් මිලදී ගත්තෙ. මම කැමති පොත හොදින් පරිස්සම් කමො. මම පොත් කියවීමට කැමැත්තක් දක්ව.\n",
            "\n",
            "Corrected Paragraph 5:\n",
            "මම මල්ලි සමග කොළඹ පොත් ප්‍රදර්ශනය බැලීමට ගියෙමි. අපි පොත් විශාල ප්‍රමාණයක් මිලදී ගත්තෙමු. මම කැමති පොත හොදින් පරිස්සම් කරමි. මම පොත් කියවීමට කැමැත්තක් දක්වමි.\n",
            "\n",
            "--------------------------------------------------\n"
          ]
        }
      ]
    }
  ]
}